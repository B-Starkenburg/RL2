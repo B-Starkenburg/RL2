{
 "cells": [
  {
   "cell_type": "code",
   "execution_count": 1,
   "metadata": {},
   "outputs": [
    {
     "name": "stderr",
     "output_type": "stream",
     "text": [
      "\n"
     ]
    }
   ],
   "source": [
    "import numpy as np\n",
    "import matplotlib.pyplot as plt\n",
    "import tensorflow as tf\n",
    "from DQNagent import DQNagent\n",
    "import gym\n",
    "import random"
   ]
  },
  {
   "cell_type": "markdown",
   "metadata": {},
   "source": [
    "# DQN\n",
    "I have put the whole cartpole training into a function so it is easier to use. The parameters we have to tune are (in order of importance):\n",
    " - network_params. Most importantly the number of nodes as we can just asume that 'relu' activation is optimal\n",
    " - batch_size\n",
    " - learning_rate \n",
    " - exploration_parameter\n",
    " - future_reward_discount_factor \n",
    " - action_selection_method\n",
    "\n",
    "When using a target network (target = True) the extra parameters to tune are:\n",
    " - target_network_update_frequency\n",
    "\n",
    "When using experinece replay (buffer = True) the batch_size means something else so it has to, most likely, be retuned.\n",
    "\n",
    "Non trainable parameters are:\n",
    " - target\n",
    " - buffer\n",
    " - total_episodes"
   ]
  },
  {
   "cell_type": "code",
   "execution_count": 4,
   "metadata": {},
   "outputs": [],
   "source": [
    "\n",
    "def Cartpole(total_episodes,target, target_network_update_frequency, buffer, batch_size, learning_rate, future_reward_discount_factor, exploration_parameter, network_params, action_selection_method):\n",
    "    scores = []\n",
    "    env = gym.make(\"CartPole-v1\")\n",
    "    agent = DQNagent(env.observation_space.shape, env.action_space.n, target, buffer, batch_size, learning_rate, future_reward_discount_factor, exploration_parameter, network_params)\n",
    "\n",
    "    for i in range(total_episodes):\n",
    "        #reset the environment\n",
    "        state = env.reset()\n",
    "\n",
    "        #Cartpole-v1 has a maximum episode length of 500\n",
    "        for t in range(500):\n",
    "            #env.render()\n",
    "            #select action based on exploration method\n",
    "            action = agent.action_selection(state, method = action_selection_method)\n",
    "\n",
    "            #Get example, and save to replay buffer\n",
    "            next_state, reward, done, _ = env.step(action)\n",
    "            #if done: reward = -10 #Finishing before 500 steps means the cartpole fell, thus we give a -10 reward\n",
    "\n",
    "            agent.memorize(state, action, reward, next_state, done)\n",
    "\n",
    "            #Train network\n",
    "            if len(agent.memory) >= batch_size:\n",
    "                agent.train()\n",
    "    \n",
    "            if t%target_network_update_frequency == 0 and target:\n",
    "                agent.update_target_network()\n",
    "\n",
    "            #The score is how long the cart stayed upright, this can be a maximum of 500\n",
    "            if done or t==499:\n",
    "                print(f\"Episode {i}: Score {t+1}/500\")\n",
    "                break\n",
    "\n",
    "            state = next_state\n",
    "        scores.append(t+1)\n",
    "    return scores\n",
    "\n",
    "    "
   ]
  },
  {
   "cell_type": "markdown",
   "metadata": {},
   "source": [
    "# Tuning Example\n",
    "Here is an example where I try out 3 different learning rates $ = [0.1, 0.01, 0.001]$. Note that I am only doing $10$ episodes, this is way too little to remark anything, you would need at least 100. For this example however, I will use $10$ so that it goes quicker."
   ]
  },
  {
   "cell_type": "code",
   "execution_count": 5,
   "metadata": {},
   "outputs": [
    {
     "name": "stdout",
     "output_type": "stream",
     "text": [
      "Episode 0: Score 35/500\n",
      "Episode 1: Score 15/500\n",
      "Episode 2: Score 27/500\n"
     ]
    }
   ],
   "source": [
    "#Parameter I am optimizing\n",
    "learning_rates = [0.1, 0.01, 0.001]\n",
    "\n",
    "#Other optimizable parameters not being optimized now\n",
    "future_reward_discount_factor = 0.95\n",
    "exploration_parameter = 0.1\n",
    "network_params = [(24,'relu'),(24,'relu')]\n",
    "action_selection_method = 'egreedy'\n",
    "batch_size = 32 #While training it will take the last n=batch_size examples. If buffer=True then it will take n=batch_size random samples from the memory\n",
    "target_network_update_frequency = 10 #After how many update steps do we update the target network\n",
    "\n",
    "#Other parameters\n",
    "buffer = False #If we want to include experience buffer to DQN\n",
    "target = False #If we want to include target network to DQN\n",
    "total_episodes = 10 #How many times the agent goes from reset -> done (note that after 500 steps the agent will return done no matter what so the training won't get stuck infinitely)\n",
    "\n",
    "#The cartpole function returns a list of scores (per episode) so I will use this in a loop for all the learning rates\n",
    "score_per_lr = []\n",
    "for learning_rate in learning_rates:\n",
    "    score = Cartpole(total_episodes,target, target_network_update_frequency, buffer, batch_size, learning_rate, future_reward_discount_factor, exploration_parameter, network_params, action_selection_method)\n",
    "    score_per_lr.append(score)"
   ]
  },
  {
   "cell_type": "markdown",
   "metadata": {},
   "source": [
    "# Plot"
   ]
  },
  {
   "cell_type": "code",
   "execution_count": null,
   "metadata": {},
   "outputs": [],
   "source": [
    "for i,lr in enumerate(learning_rates):\n",
    "    plt.plot(np.arrange(1,total_episodes+1),score_per_lr[i], label = f\"learning rate = {lr}\")\n",
    "plt.xlabel(\"Episode\")\n",
    "plt.ylabel(\"Score\")\n",
    "plt.legend()"
   ]
  }
 ],
 "metadata": {
  "interpreter": {
   "hash": "3b78bb50eca720f381f951be3e943ca115167e6483bf61f78e0348c275a37d30"
  },
  "kernelspec": {
   "display_name": "Python 3.7.6 ('base')",
   "language": "python",
   "name": "python3"
  },
  "language_info": {
   "codemirror_mode": {
    "name": "ipython",
    "version": 3
   },
   "file_extension": ".py",
   "mimetype": "text/x-python",
   "name": "python",
   "nbconvert_exporter": "python",
   "pygments_lexer": "ipython3",
   "version": "3.7.6"
  },
  "orig_nbformat": 4
 },
 "nbformat": 4,
 "nbformat_minor": 2
}
