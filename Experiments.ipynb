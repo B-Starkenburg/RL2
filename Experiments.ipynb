{
 "cells": [
  {
   "cell_type": "code",
   "execution_count": 1,
   "metadata": {},
   "outputs": [
    {
     "name": "stderr",
     "output_type": "stream",
     "text": [
      "\n"
     ]
    }
   ],
   "source": [
    "import numpy as np\n",
    "import tensorflow as tf\n",
    "from DQNagent import DQNagent\n",
    "import gym\n",
    "import random"
   ]
  },
  {
   "cell_type": "markdown",
   "metadata": {},
   "source": [
    "# DQN"
   ]
  },
  {
   "cell_type": "code",
   "execution_count": 3,
   "metadata": {},
   "outputs": [
    {
     "name": "stdout",
     "output_type": "stream",
     "text": [
      "Episode 0: Score 11/500\n",
      "Episode 1: Score 9/500\n",
      "Episode 2: Score 8/500\n",
      "Episode 3: Score 9/500\n",
      "Episode 4: Score 12/500\n",
      "Episode 5: Score 11/500\n",
      "Episode 6: Score 9/500\n",
      "Episode 7: Score 10/500\n",
      "Episode 8: Score 12/500\n",
      "Episode 9: Score 14/500\n"
     ]
    }
   ],
   "source": [
    "#Optimizable parameters\n",
    "learning_rate = 0.01\n",
    "future_reward_discount_factor = 0.95\n",
    "exploration_parameter = 0.1\n",
    "network_params = [(24,'relu'),(24,'relu')]\n",
    "action_selection_method = 'egreedy'\n",
    "batch_size = 32 #if buffer is true\n",
    "target_network_update_frequency = 10 #After how many update steps do we update the target network\n",
    "\n",
    "#Other parameters\n",
    "buffer = False #If we want to include experience buffer to DQN\n",
    "target = False #If we want to include target network to DQN\n",
    "total_episodes = 1000 #How many times the agent goes from reset -> done (note that after 500 steps the agent will return done no matter what so the training won't get stuck infinitely)\n",
    "\n",
    "\n",
    "env = gym.make(\"CartPole-v1\")\n",
    "agent = DQNagent(env.observation_space.shape, env.action_space.n,learning_rate, future_reward_discount_factor, exploration_parameter, network_params)\n",
    "\n",
    "for i in range(total_episodes):\n",
    "    #reset and reshape to work with the DQNagent\n",
    "    state = env.reset().reshape(1,-1)\n",
    "\n",
    "    #Cartpole-v1 has a maximum episode length of 500\n",
    "    for t in range(500):\n",
    "        #env.render()\n",
    "        #select action based on exploration method\n",
    "        action = agent.action_selection(state, method = action_selection_method)\n",
    "\n",
    "        #Get example, and save to replay buffer\n",
    "        next_state, reward, done, _ = env.step(action)\n",
    "        next_state = next_state.reshape(1,-1)\n",
    "        #if done: reward = -10 #Finishing before 500 steps means the cartpole fell, thus we give a -10 reward\n",
    "        if buffer:\n",
    "            agent.memorize(state, action, reward, next_state, done)\n",
    "\n",
    "        #Train network\n",
    "        if buffer:\n",
    "            if len(agent.memory) >= batch_size:\n",
    "                agent.experience_replay_train(t, target_network_update_frequency, batch_size, target)\n",
    "        else:\n",
    "            agent.train(state, action, reward, next_state, done, target)\n",
    "            if t%target_network_update_frequency == 0:\n",
    "                agent.update_target_network()\n",
    "\n",
    "        #The score is how long the cart stayed upright, this can be a maximum of 500\n",
    "        if done or t==499:\n",
    "            print(f\"Episode {i}: Score {t+1}/500\")\n",
    "            break\n",
    "\n",
    "        state = next_state\n",
    "    \n",
    "\n",
    "\n",
    "    "
   ]
  },
  {
   "cell_type": "code",
   "execution_count": null,
   "metadata": {},
   "outputs": [],
   "source": []
  }
 ],
 "metadata": {
  "interpreter": {
   "hash": "3b78bb50eca720f381f951be3e943ca115167e6483bf61f78e0348c275a37d30"
  },
  "kernelspec": {
   "display_name": "Python 3.7.6 ('base')",
   "language": "python",
   "name": "python3"
  },
  "language_info": {
   "codemirror_mode": {
    "name": "ipython",
    "version": 3
   },
   "file_extension": ".py",
   "mimetype": "text/x-python",
   "name": "python",
   "nbconvert_exporter": "python",
   "pygments_lexer": "ipython3",
   "version": "3.7.6"
  },
  "orig_nbformat": 4
 },
 "nbformat": 4,
 "nbformat_minor": 2
}
