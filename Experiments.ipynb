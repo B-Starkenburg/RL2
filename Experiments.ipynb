{
 "cells": [
  {
   "cell_type": "code",
   "execution_count": 1,
   "metadata": {},
   "outputs": [
    {
     "name": "stderr",
     "output_type": "stream",
     "text": [
      "\n"
     ]
    }
   ],
   "source": [
    "import numpy as np\n",
    "import matplotlib.pyplot as plt\n",
    "import tensorflow as tf\n",
    "from DQNagent import DQNagent\n",
    "import gym\n",
    "import random\n",
    "import pickle as pkl"
   ]
  },
  {
   "cell_type": "markdown",
   "metadata": {},
   "source": [
    "# DQN\n",
    "I have put the whole cartpole training into a function so it is easier to use. The parameters we have to tune are (in order of importance):\n",
    " - network_params. Most importantly the number of nodes as we can just asume that 'relu' activation is optimal\n",
    " - batch_size\n",
    " - learning_rate \n",
    " - exploration_parameter\n",
    " - future_reward_discount_factor \n",
    " - action_selection_method\n",
    "\n",
    "When using a target network (target = True) the extra parameters to tune are:\n",
    " - target_network_update_frequency\n",
    "\n",
    "When using experinece replay (buffer = True) the batch_size means something else so it has to, most likely, be retuned.\n",
    "\n",
    "Non trainable parameters are:\n",
    " - target\n",
    " - buffer\n",
    " - total_episodes"
   ]
  },
  {
   "cell_type": "code",
   "execution_count": 4,
   "metadata": {},
   "outputs": [],
   "source": [
    "\n",
    "def Cartpole(total_episodes,target, target_network_update_frequency, buffer, batch_size, learning_rate, future_reward_discount_factor, exploration_parameter, network_params, action_selection_method):\n",
    "    scores = []\n",
    "    env = gym.make(\"CartPole-v1\")\n",
    "    agent = DQNagent(env.observation_space.shape, env.action_space.n, target, buffer, batch_size, learning_rate, future_reward_discount_factor, exploration_parameter, network_params)\n",
    "\n",
    "    for i in range(total_episodes):\n",
    "        #reset the environment\n",
    "        state = env.reset()\n",
    "\n",
    "        #Cartpole-v1 has a maximum episode length of 500\n",
    "        for t in range(500):\n",
    "            #env.render()\n",
    "            #select action based on exploration method\n",
    "            action = agent.action_selection(state, method = action_selection_method)\n",
    "\n",
    "            #Get example, and save to replay buffer\n",
    "            next_state, reward, done, _ = env.step(action)\n",
    "            #if done: reward = -10 #Finishing before 500 steps means the cartpole fell, thus we give a -10 reward\n",
    "\n",
    "            agent.memorize(state, action, reward, next_state, done)\n",
    "\n",
    "            #Train network\n",
    "            if len(agent.memory) >= batch_size:\n",
    "                agent.train()\n",
    "    \n",
    "            if t%target_network_update_frequency == 0 and target:\n",
    "                agent.update_target_network()\n",
    "\n",
    "            #The score is how long the cart stayed upright, this can be a maximum of 500\n",
    "            if done or t==499:\n",
    "                print(f\"Episode {i}: Score {t+1}/500\")\n",
    "                break\n",
    "\n",
    "            state = next_state\n",
    "        scores.append(t+1)\n",
    "    return scores\n",
    "\n",
    "    "
   ]
  },
  {
   "cell_type": "markdown",
   "metadata": {},
   "source": [
    "# Tuning Example\n",
    "Here is an example where I try out 3 different learning rates $ = [0.1, 0.01, 0.001]$. Note that I am only doing $10$ episodes, this is way too little to remark anything, you would need at least 100. For this example however, I will use $10$ so that it goes quicker."
   ]
  },
  {
   "cell_type": "code",
   "execution_count": 5,
   "metadata": {},
   "outputs": [
    {
     "name": "stdout",
     "output_type": "stream",
     "text": [
      "Episode 0: Score 35/500\n",
      "Episode 1: Score 15/500\n",
      "Episode 2: Score 27/500\n"
     ]
    }
   ],
   "source": [
    "#Optimizable parameters\n",
    "learning_rate = 0.01\n",
    "future_reward_discount_factor = 0.95\n",
    "exploration_parameter = 0.1\n",
    "tune_params = {'input_units' : [x * 32 for x in range(1, 9)], 'layers' : [x for x in range(1,5)], 'layer_units' : [x * 32 for x in range(1, 9)], 'learning_rate' : [1e-2, 1e-3, 1e-4]}\n",
    "action_selection_method = 'egreedy'\n",
    "batch_size = 32 #if buffer is true\n",
    "target_network_update_frequency = 10 #After how many update steps do we update the target network\n",
    "\n",
    "#Other parameters\n",
    "buffer = False #If we want to include experience buffer to DQN\n",
    "target = False #If we want to include target network to DQN\n",
    "total_episodes = 1000 #How many times the agent goes from reset -> done (note that after 500 steps the agent will return done no matter what so the training won't get stuck infinitely)\n",
    "\n",
    "\n",
    "env = gym.make(\"CartPole-v1\")\n",
    "perf = {}\n",
    "open(\"tuning.pkl\", \"w\").close()\n",
    "for i_u in tune_params['input_units']:\n",
    "    for l in tune_params['layers']:\n",
    "        for l_u in tune_params['layer_units']:\n",
    "            for l_r in tune_params['learning_rate']:\n",
    "                network_params = {'input_units' : i_u, 'layers': l, 'layer_units' : l_u, 'learning_rate' : l_r}\n",
    "                agent = DQNagent(env.observation_space.shape, env.action_space.n,learning_rate, future_reward_discount_factor, exploration_parameter, network_params)\n",
    "                score = []\n",
    "                for i in range(total_episodes):\n",
    "                    #reset and reshape to work with the DQNagent\n",
    "                    state = env.reset().reshape(1,-1)\n",
    "\n",
    "                    #Cartpole-v1 has a maximum episode length of 500\n",
    "                    for t in range(500):\n",
    "                        #env.render()\n",
    "                        #select action based on exploration method\n",
    "                        action = agent.action_selection(state, method = action_selection_method)\n",
    "\n",
    "                        #Get example, and save to replay buffer\n",
    "                        next_state, reward, done, _ = env.step(action)\n",
    "                        next_state = next_state.reshape(1,-1)\n",
    "                        #if done: reward = -10 #Finishing before 500 steps means the cartpole fell, thus we give a -10 reward\n",
    "                        if buffer:\n",
    "                            agent.memorize(state, action, reward, next_state, done)\n",
    "\n",
    "                        #Train network\n",
    "                        if buffer:\n",
    "                            if len(agent.memory) >= batch_size:\n",
    "                                agent.experience_replay_train(t, target_network_update_frequency, batch_size, target)\n",
    "                        else:\n",
    "                            agent.train(state, action, reward, next_state, done, target)\n",
    "                            if t%target_network_update_frequency == 0:\n",
    "                                agent.update_target_network()\n",
    "\n",
    "                        #The score is how long the cart stayed upright, this can be a maximum of 500\n",
    "                        if done or t==499:\n",
    "                            print(f\"Episode {i}: Score {t+1}/500\")\n",
    "                            score.append(t+1)\n",
    "                            break\n",
    "\n",
    "                        state = next_state\n",
    "                perf[network_params] = [score[-1], sum(score)]\n",
    "                with open('tuning.pkl', 'ab+') as fp:\n",
    "                    pkl.dump(perf, fp)\n",
    "                    fp.close()"
   ]
  },
  {
   "cell_type": "markdown",
   "metadata": {},
   "source": [
    "# Plot"
   ]
  },
  {
   "cell_type": "code",
   "execution_count": null,
   "metadata": {},
   "outputs": [],
   "source": [
    "for i,lr in enumerate(learning_rates):\n",
    "    plt.plot(np.arrange(1,total_episodes+1),score_per_lr[i], label = f\"learning rate = {lr}\")\n",
    "plt.xlabel(\"Episode\")\n",
    "plt.ylabel(\"Score\")\n",
    "plt.legend()"
   ]
  }
 ],
 "metadata": {
  "interpreter": {
   "hash": "3b78bb50eca720f381f951be3e943ca115167e6483bf61f78e0348c275a37d30"
  },
  "kernelspec": {
   "display_name": "Python 3.7.6 ('base')",
   "language": "python",
   "name": "python3"
  },
  "language_info": {
   "codemirror_mode": {
    "name": "ipython",
    "version": 3
   },
   "file_extension": ".py",
   "mimetype": "text/x-python",
   "name": "python",
   "nbconvert_exporter": "python",
   "pygments_lexer": "ipython3",
   "version": "3.7.6"
  },
  "orig_nbformat": 4
 },
 "nbformat": 4,
 "nbformat_minor": 2
}
